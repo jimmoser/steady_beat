{
 "cells": [
  {
   "cell_type": "markdown",
   "metadata": {},
   "source": [
    "# The Steady Beat Lab\n",
    "### _How good can you keep a steady beat? We shall see...__\n",
    "***\n",
    "1.) Select the box of code below by clicking in the open gray space. \n",
    "\n",
    "2.) To run the code, press __shift + return__ together.\n",
    "\n",
    "3.) A dialog box will appear. Click the button at a steady beat 50 times. Your goal is to make the clicks at as consistent a time interval as possible.\n",
    "\n",
    "4.) The program saves a csv file (a spreadsheet) into your computer's Documents folder. You'll likely be prompted to give permission. Please do so. We'll import the file into CODAP for analysis.\n",
    "***"
   ]
  },
  {
   "cell_type": "code",
   "execution_count": 1,
   "metadata": {},
   "outputs": [],
   "source": [
    "import tkinter as tk\n",
    "import time\n",
    "import os\n",
    "import csv\n",
    "\n",
    "root = tk.Tk()\n",
    "root.counter = 0\n",
    "\n",
    "canvas = tk.Canvas(root, height=100, width=300, bg=\"white\")\n",
    "canvas.pack()\n",
    "\n",
    "frame = tk.Frame(root, bg=\"white\")\n",
    "frame.place(relwidth=0.8, relheight=0.8, relx=0.1, rely=0.1)\n",
    "\n",
    "# This accumulates the previous times so that the difference can be calculated.\n",
    "prev_times = [0]\n",
    "# This builds the array of the time differences in the steady beat.\n",
    "elapsed_times = []\n",
    "\n",
    "\n",
    "def button_click():\n",
    "    # Clears the 'Clicks' label so that there isn't more than 1.\n",
    "    for widget in frame.winfo_children():\n",
    "        widget.destroy()\n",
    "\n",
    "    # Find the elapsed time by finding the difference between the current time and the previous time.\n",
    "    current_time = time.time()\n",
    "    elapsed = round((current_time - prev_times[-1]), 4)\n",
    "    prev_times.append(current_time)\n",
    "    elapsed_times.append([elapsed])\n",
    "\n",
    "    # Keeps track of the number of clicks\n",
    "    root.counter += 1\n",
    "\n",
    "    # A label so that the user can keep track of the clicks.\n",
    "    counter_label = tk.Label(frame, text=f\"That's click: {root.counter}\", font=(\"Helvetica\", 30))\n",
    "    counter_label.pack(side=tk.TOP)\n",
    "\n",
    "    # This stops the process once the user reaches 50 clicks\n",
    "    if root.counter >= 50:\n",
    "        elapsed_times[0] = ['Differences'] # A title is added to the array of numbers.\n",
    "\n",
    "        # A file is created and saved in the user's documents folder.\n",
    "        with open(os.path.join(os.path.expanduser('~'), 'Documents', 'steady_beat.csv'), 'w', newline='') as fp:\n",
    "            a = csv.writer(fp, delimiter=',')\n",
    "            a.writerows(elapsed_times)\n",
    "\n",
    "        # The button is disabled, and the user is told what to do next.\n",
    "        click_button['state'] = 'disabled'\n",
    "        done_label = tk.Label(root, text=\"You're done!\", font=(\"Helvetica\", 20), bd=2, relief=\"raised\")\n",
    "        done_label.pack(pady=20, ipady=10, ipadx=10)\n",
    "        inst_label = tk.Label(root, text=\"Open your documents folder in your finder, \\n and make sure that \"\n",
    "                                         \"'steady_beat.csv' has been saved \\n to your computer. \\n \\n Make sure to \"\n",
    "                                         \"close this window too!\", font=(\"Helvetica\", 15))\n",
    "        inst_label.pack(pady=10, ipady=10, ipadx=10)\n",
    "\n",
    "# This creates the button that the user will click to a steady beat.\n",
    "click_button = tk.Button(root, text=\"Click this on a on a consistent beat.\", padx=10, pady=5, fg=\"white\", bg=\"#263D42\",\n",
    "                         command=button_click)\n",
    "click_button.pack()\n",
    "\n",
    "root.mainloop()\n"
   ]
  },
  {
   "cell_type": "code",
   "execution_count": null,
   "metadata": {},
   "outputs": [],
   "source": []
  }
 ],
 "metadata": {
  "kernelspec": {
   "display_name": "Python 3",
   "language": "python",
   "name": "python3"
  },
  "language_info": {
   "codemirror_mode": {
    "name": "ipython",
    "version": 3
   },
   "file_extension": ".py",
   "mimetype": "text/x-python",
   "name": "python",
   "nbconvert_exporter": "python",
   "pygments_lexer": "ipython3",
   "version": "3.9.0"
  }
 },
 "nbformat": 4,
 "nbformat_minor": 4
}
